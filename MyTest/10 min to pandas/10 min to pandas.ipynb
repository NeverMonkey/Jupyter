{
 "cells": [
  {
   "cell_type": "markdown",
   "metadata": {},
   "source": [
    "## 10 min to pandas"
   ]
  },
  {
   "cell_type": "code",
   "execution_count": 3,
   "metadata": {
    "collapsed": true
   },
   "outputs": [],
   "source": [
    "import pandas as pd\n",
    "import numpy as np\n",
    "import matplotlib.pyplot as plt"
   ]
  },
  {
   "cell_type": "code",
   "execution_count": 4,
   "metadata": {
    "collapsed": true
   },
   "outputs": [],
   "source": [
    "dates=pd.date_range('20170823',periods=9)"
   ]
  },
  {
   "cell_type": "code",
   "execution_count": 5,
   "metadata": {},
   "outputs": [
    {
     "data": {
      "text/plain": [
       "DatetimeIndex(['2017-08-23', '2017-08-24', '2017-08-25', '2017-08-26',\n",
       "               '2017-08-27', '2017-08-28', '2017-08-29', '2017-08-30',\n",
       "               '2017-08-31'],\n",
       "              dtype='datetime64[ns]', freq='D')"
      ]
     },
     "execution_count": 5,
     "metadata": {},
     "output_type": "execute_result"
    }
   ],
   "source": [
    "dates"
   ]
  },
  {
   "cell_type": "code",
   "execution_count": 8,
   "metadata": {},
   "outputs": [],
   "source": [
    "df=pd.DataFrame(np.random.randn(9,5),index=dates,columns=list('CVBNM'))"
   ]
  },
  {
   "cell_type": "code",
   "execution_count": 9,
   "metadata": {},
   "outputs": [
    {
     "data": {
      "text/html": [
       "<div>\n",
       "<style>\n",
       "    .dataframe thead tr:only-child th {\n",
       "        text-align: right;\n",
       "    }\n",
       "\n",
       "    .dataframe thead th {\n",
       "        text-align: left;\n",
       "    }\n",
       "\n",
       "    .dataframe tbody tr th {\n",
       "        vertical-align: top;\n",
       "    }\n",
       "</style>\n",
       "<table border=\"1\" class=\"dataframe\">\n",
       "  <thead>\n",
       "    <tr style=\"text-align: right;\">\n",
       "      <th></th>\n",
       "      <th>C</th>\n",
       "      <th>V</th>\n",
       "      <th>B</th>\n",
       "      <th>N</th>\n",
       "      <th>M</th>\n",
       "    </tr>\n",
       "  </thead>\n",
       "  <tbody>\n",
       "    <tr>\n",
       "      <th>2017-08-23</th>\n",
       "      <td>0.410321</td>\n",
       "      <td>0.392099</td>\n",
       "      <td>1.282811</td>\n",
       "      <td>0.403014</td>\n",
       "      <td>-0.031878</td>\n",
       "    </tr>\n",
       "    <tr>\n",
       "      <th>2017-08-24</th>\n",
       "      <td>-0.345040</td>\n",
       "      <td>-1.276856</td>\n",
       "      <td>-0.280544</td>\n",
       "      <td>1.869639</td>\n",
       "      <td>-0.143219</td>\n",
       "    </tr>\n",
       "    <tr>\n",
       "      <th>2017-08-25</th>\n",
       "      <td>-1.576963</td>\n",
       "      <td>1.396883</td>\n",
       "      <td>0.530870</td>\n",
       "      <td>0.537895</td>\n",
       "      <td>0.947949</td>\n",
       "    </tr>\n",
       "    <tr>\n",
       "      <th>2017-08-26</th>\n",
       "      <td>-0.095065</td>\n",
       "      <td>1.310569</td>\n",
       "      <td>-1.128064</td>\n",
       "      <td>0.711710</td>\n",
       "      <td>0.537928</td>\n",
       "    </tr>\n",
       "    <tr>\n",
       "      <th>2017-08-27</th>\n",
       "      <td>-1.889837</td>\n",
       "      <td>-0.163015</td>\n",
       "      <td>-0.198968</td>\n",
       "      <td>1.631299</td>\n",
       "      <td>0.936872</td>\n",
       "    </tr>\n",
       "    <tr>\n",
       "      <th>2017-08-28</th>\n",
       "      <td>-1.830169</td>\n",
       "      <td>0.394968</td>\n",
       "      <td>0.060381</td>\n",
       "      <td>-1.899959</td>\n",
       "      <td>-0.149716</td>\n",
       "    </tr>\n",
       "    <tr>\n",
       "      <th>2017-08-29</th>\n",
       "      <td>-1.368425</td>\n",
       "      <td>-0.759948</td>\n",
       "      <td>-0.029039</td>\n",
       "      <td>1.147142</td>\n",
       "      <td>-1.323560</td>\n",
       "    </tr>\n",
       "    <tr>\n",
       "      <th>2017-08-30</th>\n",
       "      <td>0.587025</td>\n",
       "      <td>-1.296344</td>\n",
       "      <td>0.065834</td>\n",
       "      <td>-1.117775</td>\n",
       "      <td>1.933244</td>\n",
       "    </tr>\n",
       "    <tr>\n",
       "      <th>2017-08-31</th>\n",
       "      <td>2.385174</td>\n",
       "      <td>1.126199</td>\n",
       "      <td>-0.497450</td>\n",
       "      <td>-0.440329</td>\n",
       "      <td>1.920097</td>\n",
       "    </tr>\n",
       "  </tbody>\n",
       "</table>\n",
       "</div>"
      ],
      "text/plain": [
       "                   C         V         B         N         M\n",
       "2017-08-23  0.410321  0.392099  1.282811  0.403014 -0.031878\n",
       "2017-08-24 -0.345040 -1.276856 -0.280544  1.869639 -0.143219\n",
       "2017-08-25 -1.576963  1.396883  0.530870  0.537895  0.947949\n",
       "2017-08-26 -0.095065  1.310569 -1.128064  0.711710  0.537928\n",
       "2017-08-27 -1.889837 -0.163015 -0.198968  1.631299  0.936872\n",
       "2017-08-28 -1.830169  0.394968  0.060381 -1.899959 -0.149716\n",
       "2017-08-29 -1.368425 -0.759948 -0.029039  1.147142 -1.323560\n",
       "2017-08-30  0.587025 -1.296344  0.065834 -1.117775  1.933244\n",
       "2017-08-31  2.385174  1.126199 -0.497450 -0.440329  1.920097"
      ]
     },
     "execution_count": 9,
     "metadata": {},
     "output_type": "execute_result"
    }
   ],
   "source": [
    "df"
   ]
  },
  {
   "cell_type": "code",
   "execution_count": 10,
   "metadata": {},
   "outputs": [
    {
     "data": {
      "text/plain": [
       "DatetimeIndex(['2017-08-23', '2017-08-24', '2017-08-25', '2017-08-26',\n",
       "               '2017-08-27', '2017-08-28', '2017-08-29', '2017-08-30',\n",
       "               '2017-08-31'],\n",
       "              dtype='datetime64[ns]', freq='D')"
      ]
     },
     "execution_count": 10,
     "metadata": {},
     "output_type": "execute_result"
    }
   ],
   "source": [
    "df.index\n"
   ]
  },
  {
   "cell_type": "code",
   "execution_count": 11,
   "metadata": {},
   "outputs": [
    {
     "data": {
      "text/html": [
       "<div>\n",
       "<style>\n",
       "    .dataframe thead tr:only-child th {\n",
       "        text-align: right;\n",
       "    }\n",
       "\n",
       "    .dataframe thead th {\n",
       "        text-align: left;\n",
       "    }\n",
       "\n",
       "    .dataframe tbody tr th {\n",
       "        vertical-align: top;\n",
       "    }\n",
       "</style>\n",
       "<table border=\"1\" class=\"dataframe\">\n",
       "  <thead>\n",
       "    <tr style=\"text-align: right;\">\n",
       "      <th></th>\n",
       "      <th>C</th>\n",
       "      <th>V</th>\n",
       "      <th>B</th>\n",
       "      <th>N</th>\n",
       "      <th>M</th>\n",
       "    </tr>\n",
       "  </thead>\n",
       "  <tbody>\n",
       "    <tr>\n",
       "      <th>count</th>\n",
       "      <td>9.000000</td>\n",
       "      <td>9.000000</td>\n",
       "      <td>9.000000</td>\n",
       "      <td>9.000000</td>\n",
       "      <td>9.000000</td>\n",
       "    </tr>\n",
       "    <tr>\n",
       "      <th>mean</th>\n",
       "      <td>-0.413664</td>\n",
       "      <td>0.124951</td>\n",
       "      <td>-0.021574</td>\n",
       "      <td>0.315848</td>\n",
       "      <td>0.514191</td>\n",
       "    </tr>\n",
       "    <tr>\n",
       "      <th>std</th>\n",
       "      <td>1.417323</td>\n",
       "      <td>1.061920</td>\n",
       "      <td>0.668051</td>\n",
       "      <td>1.254303</td>\n",
       "      <td>1.055114</td>\n",
       "    </tr>\n",
       "    <tr>\n",
       "      <th>min</th>\n",
       "      <td>-1.889837</td>\n",
       "      <td>-1.296344</td>\n",
       "      <td>-1.128064</td>\n",
       "      <td>-1.899959</td>\n",
       "      <td>-1.323560</td>\n",
       "    </tr>\n",
       "    <tr>\n",
       "      <th>25%</th>\n",
       "      <td>-1.576963</td>\n",
       "      <td>-0.759948</td>\n",
       "      <td>-0.280544</td>\n",
       "      <td>-0.440329</td>\n",
       "      <td>-0.143219</td>\n",
       "    </tr>\n",
       "    <tr>\n",
       "      <th>50%</th>\n",
       "      <td>-0.345040</td>\n",
       "      <td>0.392099</td>\n",
       "      <td>-0.029039</td>\n",
       "      <td>0.537895</td>\n",
       "      <td>0.537928</td>\n",
       "    </tr>\n",
       "    <tr>\n",
       "      <th>75%</th>\n",
       "      <td>0.410321</td>\n",
       "      <td>1.126199</td>\n",
       "      <td>0.065834</td>\n",
       "      <td>1.147142</td>\n",
       "      <td>0.947949</td>\n",
       "    </tr>\n",
       "    <tr>\n",
       "      <th>max</th>\n",
       "      <td>2.385174</td>\n",
       "      <td>1.396883</td>\n",
       "      <td>1.282811</td>\n",
       "      <td>1.869639</td>\n",
       "      <td>1.933244</td>\n",
       "    </tr>\n",
       "  </tbody>\n",
       "</table>\n",
       "</div>"
      ],
      "text/plain": [
       "              C         V         B         N         M\n",
       "count  9.000000  9.000000  9.000000  9.000000  9.000000\n",
       "mean  -0.413664  0.124951 -0.021574  0.315848  0.514191\n",
       "std    1.417323  1.061920  0.668051  1.254303  1.055114\n",
       "min   -1.889837 -1.296344 -1.128064 -1.899959 -1.323560\n",
       "25%   -1.576963 -0.759948 -0.280544 -0.440329 -0.143219\n",
       "50%   -0.345040  0.392099 -0.029039  0.537895  0.537928\n",
       "75%    0.410321  1.126199  0.065834  1.147142  0.947949\n",
       "max    2.385174  1.396883  1.282811  1.869639  1.933244"
      ]
     },
     "execution_count": 11,
     "metadata": {},
     "output_type": "execute_result"
    }
   ],
   "source": [
    "df.describe()"
   ]
  },
  {
   "cell_type": "code",
   "execution_count": 12,
   "metadata": {},
   "outputs": [
    {
     "data": {
      "text/plain": [
       "2017-08-23    0.403014\n",
       "2017-08-24    1.869639\n",
       "2017-08-25    0.537895\n",
       "2017-08-26    0.711710\n",
       "2017-08-27    1.631299\n",
       "2017-08-28   -1.899959\n",
       "2017-08-29    1.147142\n",
       "2017-08-30   -1.117775\n",
       "2017-08-31   -0.440329\n",
       "Freq: D, Name: N, dtype: float64"
      ]
     },
     "execution_count": 12,
     "metadata": {},
     "output_type": "execute_result"
    }
   ],
   "source": [
    "df['N']"
   ]
  },
  {
   "cell_type": "code",
   "execution_count": 13,
   "metadata": {},
   "outputs": [
    {
     "data": {
      "text/html": [
       "<div>\n",
       "<style>\n",
       "    .dataframe thead tr:only-child th {\n",
       "        text-align: right;\n",
       "    }\n",
       "\n",
       "    .dataframe thead th {\n",
       "        text-align: left;\n",
       "    }\n",
       "\n",
       "    .dataframe tbody tr th {\n",
       "        vertical-align: top;\n",
       "    }\n",
       "</style>\n",
       "<table border=\"1\" class=\"dataframe\">\n",
       "  <thead>\n",
       "    <tr style=\"text-align: right;\">\n",
       "      <th></th>\n",
       "      <th>C</th>\n",
       "      <th>V</th>\n",
       "      <th>B</th>\n",
       "      <th>N</th>\n",
       "      <th>M</th>\n",
       "    </tr>\n",
       "  </thead>\n",
       "  <tbody>\n",
       "    <tr>\n",
       "      <th>2017-08-23</th>\n",
       "      <td>0.410321</td>\n",
       "      <td>0.392099</td>\n",
       "      <td>1.282811</td>\n",
       "      <td>0.403014</td>\n",
       "      <td>-0.031878</td>\n",
       "    </tr>\n",
       "    <tr>\n",
       "      <th>2017-08-24</th>\n",
       "      <td>-0.345040</td>\n",
       "      <td>-1.276856</td>\n",
       "      <td>-0.280544</td>\n",
       "      <td>1.869639</td>\n",
       "      <td>-0.143219</td>\n",
       "    </tr>\n",
       "    <tr>\n",
       "      <th>2017-08-25</th>\n",
       "      <td>-1.576963</td>\n",
       "      <td>1.396883</td>\n",
       "      <td>0.530870</td>\n",
       "      <td>0.537895</td>\n",
       "      <td>0.947949</td>\n",
       "    </tr>\n",
       "  </tbody>\n",
       "</table>\n",
       "</div>"
      ],
      "text/plain": [
       "                   C         V         B         N         M\n",
       "2017-08-23  0.410321  0.392099  1.282811  0.403014 -0.031878\n",
       "2017-08-24 -0.345040 -1.276856 -0.280544  1.869639 -0.143219\n",
       "2017-08-25 -1.576963  1.396883  0.530870  0.537895  0.947949"
      ]
     },
     "execution_count": 13,
     "metadata": {},
     "output_type": "execute_result"
    }
   ],
   "source": [
    "df[0:3]"
   ]
  },
  {
   "cell_type": "code",
   "execution_count": 14,
   "metadata": {},
   "outputs": [
    {
     "data": {
      "text/plain": [
       "C    0.410321\n",
       "V    0.392099\n",
       "B    1.282811\n",
       "N    0.403014\n",
       "M   -0.031878\n",
       "Name: 2017-08-23 00:00:00, dtype: float64"
      ]
     },
     "execution_count": 14,
     "metadata": {},
     "output_type": "execute_result"
    }
   ],
   "source": [
    "df.loc[dates[0]]"
   ]
  },
  {
   "cell_type": "code",
   "execution_count": 18,
   "metadata": {},
   "outputs": [
    {
     "data": {
      "text/html": [
       "<div>\n",
       "<style>\n",
       "    .dataframe thead tr:only-child th {\n",
       "        text-align: right;\n",
       "    }\n",
       "\n",
       "    .dataframe thead th {\n",
       "        text-align: left;\n",
       "    }\n",
       "\n",
       "    .dataframe tbody tr th {\n",
       "        vertical-align: top;\n",
       "    }\n",
       "</style>\n",
       "<table border=\"1\" class=\"dataframe\">\n",
       "  <thead>\n",
       "    <tr style=\"text-align: right;\">\n",
       "      <th></th>\n",
       "      <th>M</th>\n",
       "      <th>N</th>\n",
       "    </tr>\n",
       "  </thead>\n",
       "  <tbody>\n",
       "    <tr>\n",
       "      <th>2017-08-23</th>\n",
       "      <td>-0.031878</td>\n",
       "      <td>0.403014</td>\n",
       "    </tr>\n",
       "    <tr>\n",
       "      <th>2017-08-24</th>\n",
       "      <td>-0.143219</td>\n",
       "      <td>1.869639</td>\n",
       "    </tr>\n",
       "    <tr>\n",
       "      <th>2017-08-25</th>\n",
       "      <td>0.947949</td>\n",
       "      <td>0.537895</td>\n",
       "    </tr>\n",
       "    <tr>\n",
       "      <th>2017-08-26</th>\n",
       "      <td>0.537928</td>\n",
       "      <td>0.711710</td>\n",
       "    </tr>\n",
       "    <tr>\n",
       "      <th>2017-08-27</th>\n",
       "      <td>0.936872</td>\n",
       "      <td>1.631299</td>\n",
       "    </tr>\n",
       "    <tr>\n",
       "      <th>2017-08-28</th>\n",
       "      <td>-0.149716</td>\n",
       "      <td>-1.899959</td>\n",
       "    </tr>\n",
       "    <tr>\n",
       "      <th>2017-08-29</th>\n",
       "      <td>-1.323560</td>\n",
       "      <td>1.147142</td>\n",
       "    </tr>\n",
       "    <tr>\n",
       "      <th>2017-08-30</th>\n",
       "      <td>1.933244</td>\n",
       "      <td>-1.117775</td>\n",
       "    </tr>\n",
       "    <tr>\n",
       "      <th>2017-08-31</th>\n",
       "      <td>1.920097</td>\n",
       "      <td>-0.440329</td>\n",
       "    </tr>\n",
       "  </tbody>\n",
       "</table>\n",
       "</div>"
      ],
      "text/plain": [
       "                   M         N\n",
       "2017-08-23 -0.031878  0.403014\n",
       "2017-08-24 -0.143219  1.869639\n",
       "2017-08-25  0.947949  0.537895\n",
       "2017-08-26  0.537928  0.711710\n",
       "2017-08-27  0.936872  1.631299\n",
       "2017-08-28 -0.149716 -1.899959\n",
       "2017-08-29 -1.323560  1.147142\n",
       "2017-08-30  1.933244 -1.117775\n",
       "2017-08-31  1.920097 -0.440329"
      ]
     },
     "execution_count": 18,
     "metadata": {},
     "output_type": "execute_result"
    }
   ],
   "source": [
    "df.loc[:,['M','N']]"
   ]
  },
  {
   "cell_type": "code",
   "execution_count": 21,
   "metadata": {},
   "outputs": [
    {
     "data": {
      "text/html": [
       "<div>\n",
       "<style>\n",
       "    .dataframe thead tr:only-child th {\n",
       "        text-align: right;\n",
       "    }\n",
       "\n",
       "    .dataframe thead th {\n",
       "        text-align: left;\n",
       "    }\n",
       "\n",
       "    .dataframe tbody tr th {\n",
       "        vertical-align: top;\n",
       "    }\n",
       "</style>\n",
       "<table border=\"1\" class=\"dataframe\">\n",
       "  <thead>\n",
       "    <tr style=\"text-align: right;\">\n",
       "      <th></th>\n",
       "      <th>C</th>\n",
       "      <th>V</th>\n",
       "      <th>B</th>\n",
       "      <th>N</th>\n",
       "      <th>M</th>\n",
       "    </tr>\n",
       "  </thead>\n",
       "  <tbody>\n",
       "    <tr>\n",
       "      <th>2017-08-23</th>\n",
       "      <td>0.410321</td>\n",
       "      <td>0.392099</td>\n",
       "      <td>1.282811</td>\n",
       "      <td>0.403014</td>\n",
       "      <td>-0.031878</td>\n",
       "    </tr>\n",
       "    <tr>\n",
       "      <th>2017-08-25</th>\n",
       "      <td>-1.576963</td>\n",
       "      <td>1.396883</td>\n",
       "      <td>0.530870</td>\n",
       "      <td>0.537895</td>\n",
       "      <td>0.947949</td>\n",
       "    </tr>\n",
       "    <tr>\n",
       "      <th>2017-08-28</th>\n",
       "      <td>-1.830169</td>\n",
       "      <td>0.394968</td>\n",
       "      <td>0.060381</td>\n",
       "      <td>-1.899959</td>\n",
       "      <td>-0.149716</td>\n",
       "    </tr>\n",
       "    <tr>\n",
       "      <th>2017-08-30</th>\n",
       "      <td>0.587025</td>\n",
       "      <td>-1.296344</td>\n",
       "      <td>0.065834</td>\n",
       "      <td>-1.117775</td>\n",
       "      <td>1.933244</td>\n",
       "    </tr>\n",
       "  </tbody>\n",
       "</table>\n",
       "</div>"
      ],
      "text/plain": [
       "                   C         V         B         N         M\n",
       "2017-08-23  0.410321  0.392099  1.282811  0.403014 -0.031878\n",
       "2017-08-25 -1.576963  1.396883  0.530870  0.537895  0.947949\n",
       "2017-08-28 -1.830169  0.394968  0.060381 -1.899959 -0.149716\n",
       "2017-08-30  0.587025 -1.296344  0.065834 -1.117775  1.933244"
      ]
     },
     "execution_count": 21,
     "metadata": {},
     "output_type": "execute_result"
    }
   ],
   "source": [
    "df[df.B > 0]"
   ]
  },
  {
   "cell_type": "code",
   "execution_count": 22,
   "metadata": {},
   "outputs": [
    {
     "data": {
      "text/html": [
       "<div>\n",
       "<style>\n",
       "    .dataframe thead tr:only-child th {\n",
       "        text-align: right;\n",
       "    }\n",
       "\n",
       "    .dataframe thead th {\n",
       "        text-align: left;\n",
       "    }\n",
       "\n",
       "    .dataframe tbody tr th {\n",
       "        vertical-align: top;\n",
       "    }\n",
       "</style>\n",
       "<table border=\"1\" class=\"dataframe\">\n",
       "  <thead>\n",
       "    <tr style=\"text-align: right;\">\n",
       "      <th></th>\n",
       "      <th>C</th>\n",
       "      <th>V</th>\n",
       "      <th>B</th>\n",
       "      <th>N</th>\n",
       "      <th>M</th>\n",
       "    </tr>\n",
       "  </thead>\n",
       "  <tbody>\n",
       "    <tr>\n",
       "      <th>2017-08-23</th>\n",
       "      <td>0.410321</td>\n",
       "      <td>0.392099</td>\n",
       "      <td>1.282811</td>\n",
       "      <td>0.403014</td>\n",
       "      <td>NaN</td>\n",
       "    </tr>\n",
       "    <tr>\n",
       "      <th>2017-08-24</th>\n",
       "      <td>NaN</td>\n",
       "      <td>NaN</td>\n",
       "      <td>NaN</td>\n",
       "      <td>1.869639</td>\n",
       "      <td>NaN</td>\n",
       "    </tr>\n",
       "    <tr>\n",
       "      <th>2017-08-25</th>\n",
       "      <td>NaN</td>\n",
       "      <td>1.396883</td>\n",
       "      <td>0.530870</td>\n",
       "      <td>0.537895</td>\n",
       "      <td>0.947949</td>\n",
       "    </tr>\n",
       "    <tr>\n",
       "      <th>2017-08-26</th>\n",
       "      <td>NaN</td>\n",
       "      <td>1.310569</td>\n",
       "      <td>NaN</td>\n",
       "      <td>0.711710</td>\n",
       "      <td>0.537928</td>\n",
       "    </tr>\n",
       "    <tr>\n",
       "      <th>2017-08-27</th>\n",
       "      <td>NaN</td>\n",
       "      <td>NaN</td>\n",
       "      <td>NaN</td>\n",
       "      <td>1.631299</td>\n",
       "      <td>0.936872</td>\n",
       "    </tr>\n",
       "    <tr>\n",
       "      <th>2017-08-28</th>\n",
       "      <td>NaN</td>\n",
       "      <td>0.394968</td>\n",
       "      <td>0.060381</td>\n",
       "      <td>NaN</td>\n",
       "      <td>NaN</td>\n",
       "    </tr>\n",
       "    <tr>\n",
       "      <th>2017-08-29</th>\n",
       "      <td>NaN</td>\n",
       "      <td>NaN</td>\n",
       "      <td>NaN</td>\n",
       "      <td>1.147142</td>\n",
       "      <td>NaN</td>\n",
       "    </tr>\n",
       "    <tr>\n",
       "      <th>2017-08-30</th>\n",
       "      <td>0.587025</td>\n",
       "      <td>NaN</td>\n",
       "      <td>0.065834</td>\n",
       "      <td>NaN</td>\n",
       "      <td>1.933244</td>\n",
       "    </tr>\n",
       "    <tr>\n",
       "      <th>2017-08-31</th>\n",
       "      <td>2.385174</td>\n",
       "      <td>1.126199</td>\n",
       "      <td>NaN</td>\n",
       "      <td>NaN</td>\n",
       "      <td>1.920097</td>\n",
       "    </tr>\n",
       "  </tbody>\n",
       "</table>\n",
       "</div>"
      ],
      "text/plain": [
       "                   C         V         B         N         M\n",
       "2017-08-23  0.410321  0.392099  1.282811  0.403014       NaN\n",
       "2017-08-24       NaN       NaN       NaN  1.869639       NaN\n",
       "2017-08-25       NaN  1.396883  0.530870  0.537895  0.947949\n",
       "2017-08-26       NaN  1.310569       NaN  0.711710  0.537928\n",
       "2017-08-27       NaN       NaN       NaN  1.631299  0.936872\n",
       "2017-08-28       NaN  0.394968  0.060381       NaN       NaN\n",
       "2017-08-29       NaN       NaN       NaN  1.147142       NaN\n",
       "2017-08-30  0.587025       NaN  0.065834       NaN  1.933244\n",
       "2017-08-31  2.385174  1.126199       NaN       NaN  1.920097"
      ]
     },
     "execution_count": 22,
     "metadata": {},
     "output_type": "execute_result"
    }
   ],
   "source": [
    "df[df>0]"
   ]
  },
  {
   "cell_type": "code",
   "execution_count": 27,
   "metadata": {},
   "outputs": [],
   "source": [
    "s1 = pd.Series([x for x in range(1,10)],index=pd.date_range('20170823',periods=9))"
   ]
  },
  {
   "cell_type": "code",
   "execution_count": 28,
   "metadata": {},
   "outputs": [
    {
     "data": {
      "text/plain": [
       "2017-08-23    1\n",
       "2017-08-24    2\n",
       "2017-08-25    3\n",
       "2017-08-26    4\n",
       "2017-08-27    5\n",
       "2017-08-28    6\n",
       "2017-08-29    7\n",
       "2017-08-30    8\n",
       "2017-08-31    9\n",
       "Freq: D, dtype: int64"
      ]
     },
     "execution_count": 28,
     "metadata": {},
     "output_type": "execute_result"
    }
   ],
   "source": [
    "s1"
   ]
  },
  {
   "cell_type": "code",
   "execution_count": 31,
   "metadata": {},
   "outputs": [
    {
     "data": {
      "text/plain": [
       "3.1415000000000002"
      ]
     },
     "execution_count": 31,
     "metadata": {},
     "output_type": "execute_result"
    }
   ],
   "source": [
    "df.at[dates[0],'B']"
   ]
  },
  {
   "cell_type": "code",
   "execution_count": 32,
   "metadata": {
    "collapsed": true
   },
   "outputs": [],
   "source": [
    "df.at[dates[0],'B']=3.1415"
   ]
  },
  {
   "cell_type": "code",
   "execution_count": 33,
   "metadata": {
    "collapsed": true
   },
   "outputs": [],
   "source": [
    "df2 = df.copy()"
   ]
  },
  {
   "cell_type": "code",
   "execution_count": 36,
   "metadata": {},
   "outputs": [],
   "source": [
    "df2[df2>0] = -df2"
   ]
  },
  {
   "cell_type": "code",
   "execution_count": 37,
   "metadata": {},
   "outputs": [
    {
     "data": {
      "text/html": [
       "<div>\n",
       "<style>\n",
       "    .dataframe thead tr:only-child th {\n",
       "        text-align: right;\n",
       "    }\n",
       "\n",
       "    .dataframe thead th {\n",
       "        text-align: left;\n",
       "    }\n",
       "\n",
       "    .dataframe tbody tr th {\n",
       "        vertical-align: top;\n",
       "    }\n",
       "</style>\n",
       "<table border=\"1\" class=\"dataframe\">\n",
       "  <thead>\n",
       "    <tr style=\"text-align: right;\">\n",
       "      <th></th>\n",
       "      <th>C</th>\n",
       "      <th>V</th>\n",
       "      <th>B</th>\n",
       "      <th>N</th>\n",
       "      <th>M</th>\n",
       "    </tr>\n",
       "  </thead>\n",
       "  <tbody>\n",
       "    <tr>\n",
       "      <th>2017-08-23</th>\n",
       "      <td>-0.410321</td>\n",
       "      <td>-0.392099</td>\n",
       "      <td>-3.141500</td>\n",
       "      <td>-0.403014</td>\n",
       "      <td>-0.031878</td>\n",
       "    </tr>\n",
       "    <tr>\n",
       "      <th>2017-08-24</th>\n",
       "      <td>-0.345040</td>\n",
       "      <td>-1.276856</td>\n",
       "      <td>-0.280544</td>\n",
       "      <td>-1.869639</td>\n",
       "      <td>-0.143219</td>\n",
       "    </tr>\n",
       "    <tr>\n",
       "      <th>2017-08-25</th>\n",
       "      <td>-1.576963</td>\n",
       "      <td>-1.396883</td>\n",
       "      <td>-0.530870</td>\n",
       "      <td>-0.537895</td>\n",
       "      <td>-0.947949</td>\n",
       "    </tr>\n",
       "    <tr>\n",
       "      <th>2017-08-26</th>\n",
       "      <td>-0.095065</td>\n",
       "      <td>-1.310569</td>\n",
       "      <td>-1.128064</td>\n",
       "      <td>-0.711710</td>\n",
       "      <td>-0.537928</td>\n",
       "    </tr>\n",
       "    <tr>\n",
       "      <th>2017-08-27</th>\n",
       "      <td>-1.889837</td>\n",
       "      <td>-0.163015</td>\n",
       "      <td>-0.198968</td>\n",
       "      <td>-1.631299</td>\n",
       "      <td>-0.936872</td>\n",
       "    </tr>\n",
       "    <tr>\n",
       "      <th>2017-08-28</th>\n",
       "      <td>-1.830169</td>\n",
       "      <td>-0.394968</td>\n",
       "      <td>-0.060381</td>\n",
       "      <td>-1.899959</td>\n",
       "      <td>-0.149716</td>\n",
       "    </tr>\n",
       "    <tr>\n",
       "      <th>2017-08-29</th>\n",
       "      <td>-1.368425</td>\n",
       "      <td>-0.759948</td>\n",
       "      <td>-0.029039</td>\n",
       "      <td>-1.147142</td>\n",
       "      <td>-1.323560</td>\n",
       "    </tr>\n",
       "    <tr>\n",
       "      <th>2017-08-30</th>\n",
       "      <td>-0.587025</td>\n",
       "      <td>-1.296344</td>\n",
       "      <td>-0.065834</td>\n",
       "      <td>-1.117775</td>\n",
       "      <td>-1.933244</td>\n",
       "    </tr>\n",
       "    <tr>\n",
       "      <th>2017-08-31</th>\n",
       "      <td>-2.385174</td>\n",
       "      <td>-1.126199</td>\n",
       "      <td>-0.497450</td>\n",
       "      <td>-0.440329</td>\n",
       "      <td>-1.920097</td>\n",
       "    </tr>\n",
       "  </tbody>\n",
       "</table>\n",
       "</div>"
      ],
      "text/plain": [
       "                   C         V         B         N         M\n",
       "2017-08-23 -0.410321 -0.392099 -3.141500 -0.403014 -0.031878\n",
       "2017-08-24 -0.345040 -1.276856 -0.280544 -1.869639 -0.143219\n",
       "2017-08-25 -1.576963 -1.396883 -0.530870 -0.537895 -0.947949\n",
       "2017-08-26 -0.095065 -1.310569 -1.128064 -0.711710 -0.537928\n",
       "2017-08-27 -1.889837 -0.163015 -0.198968 -1.631299 -0.936872\n",
       "2017-08-28 -1.830169 -0.394968 -0.060381 -1.899959 -0.149716\n",
       "2017-08-29 -1.368425 -0.759948 -0.029039 -1.147142 -1.323560\n",
       "2017-08-30 -0.587025 -1.296344 -0.065834 -1.117775 -1.933244\n",
       "2017-08-31 -2.385174 -1.126199 -0.497450 -0.440329 -1.920097"
      ]
     },
     "execution_count": 37,
     "metadata": {},
     "output_type": "execute_result"
    }
   ],
   "source": [
    "df2"
   ]
  },
  {
   "cell_type": "code",
   "execution_count": 38,
   "metadata": {},
   "outputs": [
    {
     "data": {
      "text/html": [
       "<div>\n",
       "<style>\n",
       "    .dataframe thead tr:only-child th {\n",
       "        text-align: right;\n",
       "    }\n",
       "\n",
       "    .dataframe thead th {\n",
       "        text-align: left;\n",
       "    }\n",
       "\n",
       "    .dataframe tbody tr th {\n",
       "        vertical-align: top;\n",
       "    }\n",
       "</style>\n",
       "<table border=\"1\" class=\"dataframe\">\n",
       "  <thead>\n",
       "    <tr style=\"text-align: right;\">\n",
       "      <th></th>\n",
       "      <th>C</th>\n",
       "      <th>V</th>\n",
       "      <th>B</th>\n",
       "      <th>N</th>\n",
       "      <th>M</th>\n",
       "    </tr>\n",
       "  </thead>\n",
       "  <tbody>\n",
       "    <tr>\n",
       "      <th>2017-08-23</th>\n",
       "      <td>False</td>\n",
       "      <td>False</td>\n",
       "      <td>False</td>\n",
       "      <td>False</td>\n",
       "      <td>False</td>\n",
       "    </tr>\n",
       "    <tr>\n",
       "      <th>2017-08-24</th>\n",
       "      <td>False</td>\n",
       "      <td>False</td>\n",
       "      <td>False</td>\n",
       "      <td>False</td>\n",
       "      <td>False</td>\n",
       "    </tr>\n",
       "    <tr>\n",
       "      <th>2017-08-25</th>\n",
       "      <td>False</td>\n",
       "      <td>False</td>\n",
       "      <td>False</td>\n",
       "      <td>False</td>\n",
       "      <td>False</td>\n",
       "    </tr>\n",
       "    <tr>\n",
       "      <th>2017-08-26</th>\n",
       "      <td>False</td>\n",
       "      <td>False</td>\n",
       "      <td>False</td>\n",
       "      <td>False</td>\n",
       "      <td>False</td>\n",
       "    </tr>\n",
       "    <tr>\n",
       "      <th>2017-08-27</th>\n",
       "      <td>False</td>\n",
       "      <td>False</td>\n",
       "      <td>False</td>\n",
       "      <td>False</td>\n",
       "      <td>False</td>\n",
       "    </tr>\n",
       "    <tr>\n",
       "      <th>2017-08-28</th>\n",
       "      <td>False</td>\n",
       "      <td>False</td>\n",
       "      <td>False</td>\n",
       "      <td>False</td>\n",
       "      <td>False</td>\n",
       "    </tr>\n",
       "    <tr>\n",
       "      <th>2017-08-29</th>\n",
       "      <td>False</td>\n",
       "      <td>False</td>\n",
       "      <td>False</td>\n",
       "      <td>False</td>\n",
       "      <td>False</td>\n",
       "    </tr>\n",
       "    <tr>\n",
       "      <th>2017-08-30</th>\n",
       "      <td>False</td>\n",
       "      <td>False</td>\n",
       "      <td>False</td>\n",
       "      <td>False</td>\n",
       "      <td>False</td>\n",
       "    </tr>\n",
       "    <tr>\n",
       "      <th>2017-08-31</th>\n",
       "      <td>False</td>\n",
       "      <td>False</td>\n",
       "      <td>False</td>\n",
       "      <td>False</td>\n",
       "      <td>False</td>\n",
       "    </tr>\n",
       "  </tbody>\n",
       "</table>\n",
       "</div>"
      ],
      "text/plain": [
       "                C      V      B      N      M\n",
       "2017-08-23  False  False  False  False  False\n",
       "2017-08-24  False  False  False  False  False\n",
       "2017-08-25  False  False  False  False  False\n",
       "2017-08-26  False  False  False  False  False\n",
       "2017-08-27  False  False  False  False  False\n",
       "2017-08-28  False  False  False  False  False\n",
       "2017-08-29  False  False  False  False  False\n",
       "2017-08-30  False  False  False  False  False\n",
       "2017-08-31  False  False  False  False  False"
      ]
     },
     "execution_count": 38,
     "metadata": {},
     "output_type": "execute_result"
    }
   ],
   "source": [
    "pd.isnull(df)"
   ]
  },
  {
   "cell_type": "code",
   "execution_count": null,
   "metadata": {
    "collapsed": true
   },
   "outputs": [],
   "source": []
  }
 ],
 "metadata": {
  "kernelspec": {
   "display_name": "Python 3",
   "language": "python",
   "name": "python3"
  },
  "language_info": {
   "codemirror_mode": {
    "name": "ipython",
    "version": 3
   },
   "file_extension": ".py",
   "mimetype": "text/x-python",
   "name": "python",
   "nbconvert_exporter": "python",
   "pygments_lexer": "ipython3",
   "version": "3.6.1"
  }
 },
 "nbformat": 4,
 "nbformat_minor": 2
}
