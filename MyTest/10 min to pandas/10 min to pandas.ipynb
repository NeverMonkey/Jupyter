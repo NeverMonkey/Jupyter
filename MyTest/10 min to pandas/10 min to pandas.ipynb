{
 "cells": [
  {
   "cell_type": "markdown",
   "metadata": {},
   "source": [
    "## 10 min to pandas"
   ]
  },
  {
   "cell_type": "code",
   "execution_count": 6,
   "metadata": {
    "collapsed": true
   },
   "outputs": [],
   "source": [
    "import pandas as pd\n",
    "import numpy as np\n",
    "import matplotlib.pyplot as plt"
   ]
  },
  {
   "cell_type": "code",
   "execution_count": 7,
   "metadata": {
    "collapsed": true
   },
   "outputs": [],
   "source": [
    "dates=pd.date_range('20170823',periods=9)"
   ]
  },
  {
   "cell_type": "code",
   "execution_count": 8,
   "metadata": {},
   "outputs": [
    {
     "data": {
      "text/plain": [
       "DatetimeIndex(['2017-08-23', '2017-08-24', '2017-08-25', '2017-08-26',\n",
       "               '2017-08-27', '2017-08-28', '2017-08-29', '2017-08-30',\n",
       "               '2017-08-31'],\n",
       "              dtype='datetime64[ns]', freq='D')"
      ]
     },
     "execution_count": 8,
     "metadata": {},
     "output_type": "execute_result"
    }
   ],
   "source": [
    "dates"
   ]
  },
  {
   "cell_type": "code",
   "execution_count": 9,
   "metadata": {
    "collapsed": true
   },
   "outputs": [],
   "source": [
    "df=pd.DataFrame(np.random.randn(9,5),index=dates,columns=list('CVBNM'))"
   ]
  },
  {
   "cell_type": "code",
   "execution_count": 10,
   "metadata": {},
   "outputs": [
    {
     "data": {
      "text/html": [
       "<div>\n",
       "<style>\n",
       "    .dataframe thead tr:only-child th {\n",
       "        text-align: right;\n",
       "    }\n",
       "\n",
       "    .dataframe thead th {\n",
       "        text-align: left;\n",
       "    }\n",
       "\n",
       "    .dataframe tbody tr th {\n",
       "        vertical-align: top;\n",
       "    }\n",
       "</style>\n",
       "<table border=\"1\" class=\"dataframe\">\n",
       "  <thead>\n",
       "    <tr style=\"text-align: right;\">\n",
       "      <th></th>\n",
       "      <th>C</th>\n",
       "      <th>V</th>\n",
       "      <th>B</th>\n",
       "      <th>N</th>\n",
       "      <th>M</th>\n",
       "    </tr>\n",
       "  </thead>\n",
       "  <tbody>\n",
       "    <tr>\n",
       "      <th>2017-08-23</th>\n",
       "      <td>-1.149824</td>\n",
       "      <td>-1.038819</td>\n",
       "      <td>1.020471</td>\n",
       "      <td>1.056058</td>\n",
       "      <td>1.265738</td>\n",
       "    </tr>\n",
       "    <tr>\n",
       "      <th>2017-08-24</th>\n",
       "      <td>1.538752</td>\n",
       "      <td>-0.052299</td>\n",
       "      <td>0.753609</td>\n",
       "      <td>-0.485656</td>\n",
       "      <td>-0.168861</td>\n",
       "    </tr>\n",
       "    <tr>\n",
       "      <th>2017-08-25</th>\n",
       "      <td>-0.559144</td>\n",
       "      <td>-1.208882</td>\n",
       "      <td>-0.529810</td>\n",
       "      <td>0.039744</td>\n",
       "      <td>-0.514193</td>\n",
       "    </tr>\n",
       "    <tr>\n",
       "      <th>2017-08-26</th>\n",
       "      <td>-0.688243</td>\n",
       "      <td>0.126149</td>\n",
       "      <td>0.666027</td>\n",
       "      <td>0.941132</td>\n",
       "      <td>-1.267556</td>\n",
       "    </tr>\n",
       "    <tr>\n",
       "      <th>2017-08-27</th>\n",
       "      <td>-1.114148</td>\n",
       "      <td>-0.164693</td>\n",
       "      <td>-0.261773</td>\n",
       "      <td>-0.493350</td>\n",
       "      <td>1.061026</td>\n",
       "    </tr>\n",
       "    <tr>\n",
       "      <th>2017-08-28</th>\n",
       "      <td>-0.685278</td>\n",
       "      <td>1.120901</td>\n",
       "      <td>1.183146</td>\n",
       "      <td>-1.313207</td>\n",
       "      <td>0.420683</td>\n",
       "    </tr>\n",
       "    <tr>\n",
       "      <th>2017-08-29</th>\n",
       "      <td>-1.124078</td>\n",
       "      <td>0.949116</td>\n",
       "      <td>-0.427601</td>\n",
       "      <td>1.326805</td>\n",
       "      <td>-0.340251</td>\n",
       "    </tr>\n",
       "    <tr>\n",
       "      <th>2017-08-30</th>\n",
       "      <td>-0.845967</td>\n",
       "      <td>1.921890</td>\n",
       "      <td>-0.382391</td>\n",
       "      <td>-1.590572</td>\n",
       "      <td>0.311105</td>\n",
       "    </tr>\n",
       "    <tr>\n",
       "      <th>2017-08-31</th>\n",
       "      <td>-0.396559</td>\n",
       "      <td>-0.182796</td>\n",
       "      <td>2.588274</td>\n",
       "      <td>-0.156569</td>\n",
       "      <td>-1.917939</td>\n",
       "    </tr>\n",
       "  </tbody>\n",
       "</table>\n",
       "</div>"
      ],
      "text/plain": [
       "                   C         V         B         N         M\n",
       "2017-08-23 -1.149824 -1.038819  1.020471  1.056058  1.265738\n",
       "2017-08-24  1.538752 -0.052299  0.753609 -0.485656 -0.168861\n",
       "2017-08-25 -0.559144 -1.208882 -0.529810  0.039744 -0.514193\n",
       "2017-08-26 -0.688243  0.126149  0.666027  0.941132 -1.267556\n",
       "2017-08-27 -1.114148 -0.164693 -0.261773 -0.493350  1.061026\n",
       "2017-08-28 -0.685278  1.120901  1.183146 -1.313207  0.420683\n",
       "2017-08-29 -1.124078  0.949116 -0.427601  1.326805 -0.340251\n",
       "2017-08-30 -0.845967  1.921890 -0.382391 -1.590572  0.311105\n",
       "2017-08-31 -0.396559 -0.182796  2.588274 -0.156569 -1.917939"
      ]
     },
     "execution_count": 10,
     "metadata": {},
     "output_type": "execute_result"
    }
   ],
   "source": [
    "df"
   ]
  },
  {
   "cell_type": "code",
   "execution_count": 11,
   "metadata": {},
   "outputs": [
    {
     "data": {
      "text/plain": [
       "DatetimeIndex(['2017-08-23', '2017-08-24', '2017-08-25', '2017-08-26',\n",
       "               '2017-08-27', '2017-08-28', '2017-08-29', '2017-08-30',\n",
       "               '2017-08-31'],\n",
       "              dtype='datetime64[ns]', freq='D')"
      ]
     },
     "execution_count": 11,
     "metadata": {},
     "output_type": "execute_result"
    }
   ],
   "source": [
    "df.index\n"
   ]
  },
  {
   "cell_type": "code",
   "execution_count": 12,
   "metadata": {},
   "outputs": [
    {
     "data": {
      "text/html": [
       "<div>\n",
       "<style>\n",
       "    .dataframe thead tr:only-child th {\n",
       "        text-align: right;\n",
       "    }\n",
       "\n",
       "    .dataframe thead th {\n",
       "        text-align: left;\n",
       "    }\n",
       "\n",
       "    .dataframe tbody tr th {\n",
       "        vertical-align: top;\n",
       "    }\n",
       "</style>\n",
       "<table border=\"1\" class=\"dataframe\">\n",
       "  <thead>\n",
       "    <tr style=\"text-align: right;\">\n",
       "      <th></th>\n",
       "      <th>C</th>\n",
       "      <th>V</th>\n",
       "      <th>B</th>\n",
       "      <th>N</th>\n",
       "      <th>M</th>\n",
       "    </tr>\n",
       "  </thead>\n",
       "  <tbody>\n",
       "    <tr>\n",
       "      <th>count</th>\n",
       "      <td>9.000000</td>\n",
       "      <td>9.000000</td>\n",
       "      <td>9.000000</td>\n",
       "      <td>9.000000</td>\n",
       "      <td>9.000000</td>\n",
       "    </tr>\n",
       "    <tr>\n",
       "      <th>mean</th>\n",
       "      <td>-0.558277</td>\n",
       "      <td>0.163396</td>\n",
       "      <td>0.512217</td>\n",
       "      <td>-0.075068</td>\n",
       "      <td>-0.127806</td>\n",
       "    </tr>\n",
       "    <tr>\n",
       "      <th>std</th>\n",
       "      <td>0.830551</td>\n",
       "      <td>1.014294</td>\n",
       "      <td>1.028887</td>\n",
       "      <td>1.028984</td>\n",
       "      <td>1.033712</td>\n",
       "    </tr>\n",
       "    <tr>\n",
       "      <th>min</th>\n",
       "      <td>-1.149824</td>\n",
       "      <td>-1.208882</td>\n",
       "      <td>-0.529810</td>\n",
       "      <td>-1.590572</td>\n",
       "      <td>-1.917939</td>\n",
       "    </tr>\n",
       "    <tr>\n",
       "      <th>25%</th>\n",
       "      <td>-1.114148</td>\n",
       "      <td>-0.182796</td>\n",
       "      <td>-0.382391</td>\n",
       "      <td>-0.493350</td>\n",
       "      <td>-0.514193</td>\n",
       "    </tr>\n",
       "    <tr>\n",
       "      <th>50%</th>\n",
       "      <td>-0.688243</td>\n",
       "      <td>-0.052299</td>\n",
       "      <td>0.666027</td>\n",
       "      <td>-0.156569</td>\n",
       "      <td>-0.168861</td>\n",
       "    </tr>\n",
       "    <tr>\n",
       "      <th>75%</th>\n",
       "      <td>-0.559144</td>\n",
       "      <td>0.949116</td>\n",
       "      <td>1.020471</td>\n",
       "      <td>0.941132</td>\n",
       "      <td>0.420683</td>\n",
       "    </tr>\n",
       "    <tr>\n",
       "      <th>max</th>\n",
       "      <td>1.538752</td>\n",
       "      <td>1.921890</td>\n",
       "      <td>2.588274</td>\n",
       "      <td>1.326805</td>\n",
       "      <td>1.265738</td>\n",
       "    </tr>\n",
       "  </tbody>\n",
       "</table>\n",
       "</div>"
      ],
      "text/plain": [
       "              C         V         B         N         M\n",
       "count  9.000000  9.000000  9.000000  9.000000  9.000000\n",
       "mean  -0.558277  0.163396  0.512217 -0.075068 -0.127806\n",
       "std    0.830551  1.014294  1.028887  1.028984  1.033712\n",
       "min   -1.149824 -1.208882 -0.529810 -1.590572 -1.917939\n",
       "25%   -1.114148 -0.182796 -0.382391 -0.493350 -0.514193\n",
       "50%   -0.688243 -0.052299  0.666027 -0.156569 -0.168861\n",
       "75%   -0.559144  0.949116  1.020471  0.941132  0.420683\n",
       "max    1.538752  1.921890  2.588274  1.326805  1.265738"
      ]
     },
     "execution_count": 12,
     "metadata": {},
     "output_type": "execute_result"
    }
   ],
   "source": [
    "df.describe()"
   ]
  },
  {
   "cell_type": "code",
   "execution_count": 13,
   "metadata": {},
   "outputs": [
    {
     "data": {
      "text/plain": [
       "2017-08-23    1.056058\n",
       "2017-08-24   -0.485656\n",
       "2017-08-25    0.039744\n",
       "2017-08-26    0.941132\n",
       "2017-08-27   -0.493350\n",
       "2017-08-28   -1.313207\n",
       "2017-08-29    1.326805\n",
       "2017-08-30   -1.590572\n",
       "2017-08-31   -0.156569\n",
       "Freq: D, Name: N, dtype: float64"
      ]
     },
     "execution_count": 13,
     "metadata": {},
     "output_type": "execute_result"
    }
   ],
   "source": [
    "df['N']"
   ]
  },
  {
   "cell_type": "code",
   "execution_count": 14,
   "metadata": {},
   "outputs": [
    {
     "data": {
      "text/html": [
       "<div>\n",
       "<style>\n",
       "    .dataframe thead tr:only-child th {\n",
       "        text-align: right;\n",
       "    }\n",
       "\n",
       "    .dataframe thead th {\n",
       "        text-align: left;\n",
       "    }\n",
       "\n",
       "    .dataframe tbody tr th {\n",
       "        vertical-align: top;\n",
       "    }\n",
       "</style>\n",
       "<table border=\"1\" class=\"dataframe\">\n",
       "  <thead>\n",
       "    <tr style=\"text-align: right;\">\n",
       "      <th></th>\n",
       "      <th>C</th>\n",
       "      <th>V</th>\n",
       "      <th>B</th>\n",
       "      <th>N</th>\n",
       "      <th>M</th>\n",
       "    </tr>\n",
       "  </thead>\n",
       "  <tbody>\n",
       "    <tr>\n",
       "      <th>2017-08-23</th>\n",
       "      <td>-1.149824</td>\n",
       "      <td>-1.038819</td>\n",
       "      <td>1.020471</td>\n",
       "      <td>1.056058</td>\n",
       "      <td>1.265738</td>\n",
       "    </tr>\n",
       "    <tr>\n",
       "      <th>2017-08-24</th>\n",
       "      <td>1.538752</td>\n",
       "      <td>-0.052299</td>\n",
       "      <td>0.753609</td>\n",
       "      <td>-0.485656</td>\n",
       "      <td>-0.168861</td>\n",
       "    </tr>\n",
       "    <tr>\n",
       "      <th>2017-08-25</th>\n",
       "      <td>-0.559144</td>\n",
       "      <td>-1.208882</td>\n",
       "      <td>-0.529810</td>\n",
       "      <td>0.039744</td>\n",
       "      <td>-0.514193</td>\n",
       "    </tr>\n",
       "  </tbody>\n",
       "</table>\n",
       "</div>"
      ],
      "text/plain": [
       "                   C         V         B         N         M\n",
       "2017-08-23 -1.149824 -1.038819  1.020471  1.056058  1.265738\n",
       "2017-08-24  1.538752 -0.052299  0.753609 -0.485656 -0.168861\n",
       "2017-08-25 -0.559144 -1.208882 -0.529810  0.039744 -0.514193"
      ]
     },
     "execution_count": 14,
     "metadata": {},
     "output_type": "execute_result"
    }
   ],
   "source": [
    "df[0:3]"
   ]
  },
  {
   "cell_type": "code",
   "execution_count": 15,
   "metadata": {},
   "outputs": [
    {
     "data": {
      "text/plain": [
       "C   -1.149824\n",
       "V   -1.038819\n",
       "B    1.020471\n",
       "N    1.056058\n",
       "M    1.265738\n",
       "Name: 2017-08-23 00:00:00, dtype: float64"
      ]
     },
     "execution_count": 15,
     "metadata": {},
     "output_type": "execute_result"
    }
   ],
   "source": [
    "df.loc[dates[0]]"
   ]
  },
  {
   "cell_type": "code",
   "execution_count": 16,
   "metadata": {},
   "outputs": [
    {
     "data": {
      "text/html": [
       "<div>\n",
       "<style>\n",
       "    .dataframe thead tr:only-child th {\n",
       "        text-align: right;\n",
       "    }\n",
       "\n",
       "    .dataframe thead th {\n",
       "        text-align: left;\n",
       "    }\n",
       "\n",
       "    .dataframe tbody tr th {\n",
       "        vertical-align: top;\n",
       "    }\n",
       "</style>\n",
       "<table border=\"1\" class=\"dataframe\">\n",
       "  <thead>\n",
       "    <tr style=\"text-align: right;\">\n",
       "      <th></th>\n",
       "      <th>M</th>\n",
       "      <th>N</th>\n",
       "    </tr>\n",
       "  </thead>\n",
       "  <tbody>\n",
       "    <tr>\n",
       "      <th>2017-08-23</th>\n",
       "      <td>1.265738</td>\n",
       "      <td>1.056058</td>\n",
       "    </tr>\n",
       "    <tr>\n",
       "      <th>2017-08-24</th>\n",
       "      <td>-0.168861</td>\n",
       "      <td>-0.485656</td>\n",
       "    </tr>\n",
       "    <tr>\n",
       "      <th>2017-08-25</th>\n",
       "      <td>-0.514193</td>\n",
       "      <td>0.039744</td>\n",
       "    </tr>\n",
       "    <tr>\n",
       "      <th>2017-08-26</th>\n",
       "      <td>-1.267556</td>\n",
       "      <td>0.941132</td>\n",
       "    </tr>\n",
       "    <tr>\n",
       "      <th>2017-08-27</th>\n",
       "      <td>1.061026</td>\n",
       "      <td>-0.493350</td>\n",
       "    </tr>\n",
       "    <tr>\n",
       "      <th>2017-08-28</th>\n",
       "      <td>0.420683</td>\n",
       "      <td>-1.313207</td>\n",
       "    </tr>\n",
       "    <tr>\n",
       "      <th>2017-08-29</th>\n",
       "      <td>-0.340251</td>\n",
       "      <td>1.326805</td>\n",
       "    </tr>\n",
       "    <tr>\n",
       "      <th>2017-08-30</th>\n",
       "      <td>0.311105</td>\n",
       "      <td>-1.590572</td>\n",
       "    </tr>\n",
       "    <tr>\n",
       "      <th>2017-08-31</th>\n",
       "      <td>-1.917939</td>\n",
       "      <td>-0.156569</td>\n",
       "    </tr>\n",
       "  </tbody>\n",
       "</table>\n",
       "</div>"
      ],
      "text/plain": [
       "                   M         N\n",
       "2017-08-23  1.265738  1.056058\n",
       "2017-08-24 -0.168861 -0.485656\n",
       "2017-08-25 -0.514193  0.039744\n",
       "2017-08-26 -1.267556  0.941132\n",
       "2017-08-27  1.061026 -0.493350\n",
       "2017-08-28  0.420683 -1.313207\n",
       "2017-08-29 -0.340251  1.326805\n",
       "2017-08-30  0.311105 -1.590572\n",
       "2017-08-31 -1.917939 -0.156569"
      ]
     },
     "execution_count": 16,
     "metadata": {},
     "output_type": "execute_result"
    }
   ],
   "source": [
    "df.loc[:,['M','N']]"
   ]
  },
  {
   "cell_type": "code",
   "execution_count": 17,
   "metadata": {},
   "outputs": [
    {
     "data": {
      "text/html": [
       "<div>\n",
       "<style>\n",
       "    .dataframe thead tr:only-child th {\n",
       "        text-align: right;\n",
       "    }\n",
       "\n",
       "    .dataframe thead th {\n",
       "        text-align: left;\n",
       "    }\n",
       "\n",
       "    .dataframe tbody tr th {\n",
       "        vertical-align: top;\n",
       "    }\n",
       "</style>\n",
       "<table border=\"1\" class=\"dataframe\">\n",
       "  <thead>\n",
       "    <tr style=\"text-align: right;\">\n",
       "      <th></th>\n",
       "      <th>C</th>\n",
       "      <th>V</th>\n",
       "      <th>B</th>\n",
       "      <th>N</th>\n",
       "      <th>M</th>\n",
       "    </tr>\n",
       "  </thead>\n",
       "  <tbody>\n",
       "    <tr>\n",
       "      <th>2017-08-23</th>\n",
       "      <td>-1.149824</td>\n",
       "      <td>-1.038819</td>\n",
       "      <td>1.020471</td>\n",
       "      <td>1.056058</td>\n",
       "      <td>1.265738</td>\n",
       "    </tr>\n",
       "    <tr>\n",
       "      <th>2017-08-24</th>\n",
       "      <td>1.538752</td>\n",
       "      <td>-0.052299</td>\n",
       "      <td>0.753609</td>\n",
       "      <td>-0.485656</td>\n",
       "      <td>-0.168861</td>\n",
       "    </tr>\n",
       "    <tr>\n",
       "      <th>2017-08-26</th>\n",
       "      <td>-0.688243</td>\n",
       "      <td>0.126149</td>\n",
       "      <td>0.666027</td>\n",
       "      <td>0.941132</td>\n",
       "      <td>-1.267556</td>\n",
       "    </tr>\n",
       "    <tr>\n",
       "      <th>2017-08-28</th>\n",
       "      <td>-0.685278</td>\n",
       "      <td>1.120901</td>\n",
       "      <td>1.183146</td>\n",
       "      <td>-1.313207</td>\n",
       "      <td>0.420683</td>\n",
       "    </tr>\n",
       "    <tr>\n",
       "      <th>2017-08-31</th>\n",
       "      <td>-0.396559</td>\n",
       "      <td>-0.182796</td>\n",
       "      <td>2.588274</td>\n",
       "      <td>-0.156569</td>\n",
       "      <td>-1.917939</td>\n",
       "    </tr>\n",
       "  </tbody>\n",
       "</table>\n",
       "</div>"
      ],
      "text/plain": [
       "                   C         V         B         N         M\n",
       "2017-08-23 -1.149824 -1.038819  1.020471  1.056058  1.265738\n",
       "2017-08-24  1.538752 -0.052299  0.753609 -0.485656 -0.168861\n",
       "2017-08-26 -0.688243  0.126149  0.666027  0.941132 -1.267556\n",
       "2017-08-28 -0.685278  1.120901  1.183146 -1.313207  0.420683\n",
       "2017-08-31 -0.396559 -0.182796  2.588274 -0.156569 -1.917939"
      ]
     },
     "execution_count": 17,
     "metadata": {},
     "output_type": "execute_result"
    }
   ],
   "source": [
    "df[df.B > 0]"
   ]
  },
  {
   "cell_type": "code",
   "execution_count": 18,
   "metadata": {},
   "outputs": [
    {
     "data": {
      "text/html": [
       "<div>\n",
       "<style>\n",
       "    .dataframe thead tr:only-child th {\n",
       "        text-align: right;\n",
       "    }\n",
       "\n",
       "    .dataframe thead th {\n",
       "        text-align: left;\n",
       "    }\n",
       "\n",
       "    .dataframe tbody tr th {\n",
       "        vertical-align: top;\n",
       "    }\n",
       "</style>\n",
       "<table border=\"1\" class=\"dataframe\">\n",
       "  <thead>\n",
       "    <tr style=\"text-align: right;\">\n",
       "      <th></th>\n",
       "      <th>C</th>\n",
       "      <th>V</th>\n",
       "      <th>B</th>\n",
       "      <th>N</th>\n",
       "      <th>M</th>\n",
       "    </tr>\n",
       "  </thead>\n",
       "  <tbody>\n",
       "    <tr>\n",
       "      <th>2017-08-23</th>\n",
       "      <td>NaN</td>\n",
       "      <td>NaN</td>\n",
       "      <td>1.020471</td>\n",
       "      <td>1.056058</td>\n",
       "      <td>1.265738</td>\n",
       "    </tr>\n",
       "    <tr>\n",
       "      <th>2017-08-24</th>\n",
       "      <td>1.538752</td>\n",
       "      <td>NaN</td>\n",
       "      <td>0.753609</td>\n",
       "      <td>NaN</td>\n",
       "      <td>NaN</td>\n",
       "    </tr>\n",
       "    <tr>\n",
       "      <th>2017-08-25</th>\n",
       "      <td>NaN</td>\n",
       "      <td>NaN</td>\n",
       "      <td>NaN</td>\n",
       "      <td>0.039744</td>\n",
       "      <td>NaN</td>\n",
       "    </tr>\n",
       "    <tr>\n",
       "      <th>2017-08-26</th>\n",
       "      <td>NaN</td>\n",
       "      <td>0.126149</td>\n",
       "      <td>0.666027</td>\n",
       "      <td>0.941132</td>\n",
       "      <td>NaN</td>\n",
       "    </tr>\n",
       "    <tr>\n",
       "      <th>2017-08-27</th>\n",
       "      <td>NaN</td>\n",
       "      <td>NaN</td>\n",
       "      <td>NaN</td>\n",
       "      <td>NaN</td>\n",
       "      <td>1.061026</td>\n",
       "    </tr>\n",
       "    <tr>\n",
       "      <th>2017-08-28</th>\n",
       "      <td>NaN</td>\n",
       "      <td>1.120901</td>\n",
       "      <td>1.183146</td>\n",
       "      <td>NaN</td>\n",
       "      <td>0.420683</td>\n",
       "    </tr>\n",
       "    <tr>\n",
       "      <th>2017-08-29</th>\n",
       "      <td>NaN</td>\n",
       "      <td>0.949116</td>\n",
       "      <td>NaN</td>\n",
       "      <td>1.326805</td>\n",
       "      <td>NaN</td>\n",
       "    </tr>\n",
       "    <tr>\n",
       "      <th>2017-08-30</th>\n",
       "      <td>NaN</td>\n",
       "      <td>1.921890</td>\n",
       "      <td>NaN</td>\n",
       "      <td>NaN</td>\n",
       "      <td>0.311105</td>\n",
       "    </tr>\n",
       "    <tr>\n",
       "      <th>2017-08-31</th>\n",
       "      <td>NaN</td>\n",
       "      <td>NaN</td>\n",
       "      <td>2.588274</td>\n",
       "      <td>NaN</td>\n",
       "      <td>NaN</td>\n",
       "    </tr>\n",
       "  </tbody>\n",
       "</table>\n",
       "</div>"
      ],
      "text/plain": [
       "                   C         V         B         N         M\n",
       "2017-08-23       NaN       NaN  1.020471  1.056058  1.265738\n",
       "2017-08-24  1.538752       NaN  0.753609       NaN       NaN\n",
       "2017-08-25       NaN       NaN       NaN  0.039744       NaN\n",
       "2017-08-26       NaN  0.126149  0.666027  0.941132       NaN\n",
       "2017-08-27       NaN       NaN       NaN       NaN  1.061026\n",
       "2017-08-28       NaN  1.120901  1.183146       NaN  0.420683\n",
       "2017-08-29       NaN  0.949116       NaN  1.326805       NaN\n",
       "2017-08-30       NaN  1.921890       NaN       NaN  0.311105\n",
       "2017-08-31       NaN       NaN  2.588274       NaN       NaN"
      ]
     },
     "execution_count": 18,
     "metadata": {},
     "output_type": "execute_result"
    }
   ],
   "source": [
    "df[df>0]"
   ]
  },
  {
   "cell_type": "code",
   "execution_count": 19,
   "metadata": {
    "collapsed": true
   },
   "outputs": [],
   "source": [
    "s1 = pd.Series([x for x in range(1,10)],index=pd.date_range('20170823',periods=9))"
   ]
  },
  {
   "cell_type": "code",
   "execution_count": 20,
   "metadata": {},
   "outputs": [
    {
     "data": {
      "text/plain": [
       "2017-08-23    1\n",
       "2017-08-24    2\n",
       "2017-08-25    3\n",
       "2017-08-26    4\n",
       "2017-08-27    5\n",
       "2017-08-28    6\n",
       "2017-08-29    7\n",
       "2017-08-30    8\n",
       "2017-08-31    9\n",
       "Freq: D, dtype: int64"
      ]
     },
     "execution_count": 20,
     "metadata": {},
     "output_type": "execute_result"
    }
   ],
   "source": [
    "s1"
   ]
  },
  {
   "cell_type": "code",
   "execution_count": 21,
   "metadata": {},
   "outputs": [
    {
     "data": {
      "text/plain": [
       "1.0204708939030043"
      ]
     },
     "execution_count": 21,
     "metadata": {},
     "output_type": "execute_result"
    }
   ],
   "source": [
    "df.at[dates[0],'B']"
   ]
  },
  {
   "cell_type": "code",
   "execution_count": 22,
   "metadata": {
    "collapsed": true
   },
   "outputs": [],
   "source": [
    "df.at[dates[0],'B']=3.1415"
   ]
  },
  {
   "cell_type": "code",
   "execution_count": 23,
   "metadata": {
    "collapsed": true
   },
   "outputs": [],
   "source": [
    "df2 = df.copy()"
   ]
  },
  {
   "cell_type": "code",
   "execution_count": 24,
   "metadata": {
    "collapsed": true
   },
   "outputs": [],
   "source": [
    "df2[df2>0] = -df2"
   ]
  },
  {
   "cell_type": "code",
   "execution_count": 25,
   "metadata": {},
   "outputs": [
    {
     "data": {
      "text/html": [
       "<div>\n",
       "<style>\n",
       "    .dataframe thead tr:only-child th {\n",
       "        text-align: right;\n",
       "    }\n",
       "\n",
       "    .dataframe thead th {\n",
       "        text-align: left;\n",
       "    }\n",
       "\n",
       "    .dataframe tbody tr th {\n",
       "        vertical-align: top;\n",
       "    }\n",
       "</style>\n",
       "<table border=\"1\" class=\"dataframe\">\n",
       "  <thead>\n",
       "    <tr style=\"text-align: right;\">\n",
       "      <th></th>\n",
       "      <th>C</th>\n",
       "      <th>V</th>\n",
       "      <th>B</th>\n",
       "      <th>N</th>\n",
       "      <th>M</th>\n",
       "    </tr>\n",
       "  </thead>\n",
       "  <tbody>\n",
       "    <tr>\n",
       "      <th>2017-08-23</th>\n",
       "      <td>-1.149824</td>\n",
       "      <td>-1.038819</td>\n",
       "      <td>-3.141500</td>\n",
       "      <td>-1.056058</td>\n",
       "      <td>-1.265738</td>\n",
       "    </tr>\n",
       "    <tr>\n",
       "      <th>2017-08-24</th>\n",
       "      <td>-1.538752</td>\n",
       "      <td>-0.052299</td>\n",
       "      <td>-0.753609</td>\n",
       "      <td>-0.485656</td>\n",
       "      <td>-0.168861</td>\n",
       "    </tr>\n",
       "    <tr>\n",
       "      <th>2017-08-25</th>\n",
       "      <td>-0.559144</td>\n",
       "      <td>-1.208882</td>\n",
       "      <td>-0.529810</td>\n",
       "      <td>-0.039744</td>\n",
       "      <td>-0.514193</td>\n",
       "    </tr>\n",
       "    <tr>\n",
       "      <th>2017-08-26</th>\n",
       "      <td>-0.688243</td>\n",
       "      <td>-0.126149</td>\n",
       "      <td>-0.666027</td>\n",
       "      <td>-0.941132</td>\n",
       "      <td>-1.267556</td>\n",
       "    </tr>\n",
       "    <tr>\n",
       "      <th>2017-08-27</th>\n",
       "      <td>-1.114148</td>\n",
       "      <td>-0.164693</td>\n",
       "      <td>-0.261773</td>\n",
       "      <td>-0.493350</td>\n",
       "      <td>-1.061026</td>\n",
       "    </tr>\n",
       "    <tr>\n",
       "      <th>2017-08-28</th>\n",
       "      <td>-0.685278</td>\n",
       "      <td>-1.120901</td>\n",
       "      <td>-1.183146</td>\n",
       "      <td>-1.313207</td>\n",
       "      <td>-0.420683</td>\n",
       "    </tr>\n",
       "    <tr>\n",
       "      <th>2017-08-29</th>\n",
       "      <td>-1.124078</td>\n",
       "      <td>-0.949116</td>\n",
       "      <td>-0.427601</td>\n",
       "      <td>-1.326805</td>\n",
       "      <td>-0.340251</td>\n",
       "    </tr>\n",
       "    <tr>\n",
       "      <th>2017-08-30</th>\n",
       "      <td>-0.845967</td>\n",
       "      <td>-1.921890</td>\n",
       "      <td>-0.382391</td>\n",
       "      <td>-1.590572</td>\n",
       "      <td>-0.311105</td>\n",
       "    </tr>\n",
       "    <tr>\n",
       "      <th>2017-08-31</th>\n",
       "      <td>-0.396559</td>\n",
       "      <td>-0.182796</td>\n",
       "      <td>-2.588274</td>\n",
       "      <td>-0.156569</td>\n",
       "      <td>-1.917939</td>\n",
       "    </tr>\n",
       "  </tbody>\n",
       "</table>\n",
       "</div>"
      ],
      "text/plain": [
       "                   C         V         B         N         M\n",
       "2017-08-23 -1.149824 -1.038819 -3.141500 -1.056058 -1.265738\n",
       "2017-08-24 -1.538752 -0.052299 -0.753609 -0.485656 -0.168861\n",
       "2017-08-25 -0.559144 -1.208882 -0.529810 -0.039744 -0.514193\n",
       "2017-08-26 -0.688243 -0.126149 -0.666027 -0.941132 -1.267556\n",
       "2017-08-27 -1.114148 -0.164693 -0.261773 -0.493350 -1.061026\n",
       "2017-08-28 -0.685278 -1.120901 -1.183146 -1.313207 -0.420683\n",
       "2017-08-29 -1.124078 -0.949116 -0.427601 -1.326805 -0.340251\n",
       "2017-08-30 -0.845967 -1.921890 -0.382391 -1.590572 -0.311105\n",
       "2017-08-31 -0.396559 -0.182796 -2.588274 -0.156569 -1.917939"
      ]
     },
     "execution_count": 25,
     "metadata": {},
     "output_type": "execute_result"
    }
   ],
   "source": [
    "df2"
   ]
  },
  {
   "cell_type": "code",
   "execution_count": 26,
   "metadata": {},
   "outputs": [
    {
     "data": {
      "text/html": [
       "<div>\n",
       "<style>\n",
       "    .dataframe thead tr:only-child th {\n",
       "        text-align: right;\n",
       "    }\n",
       "\n",
       "    .dataframe thead th {\n",
       "        text-align: left;\n",
       "    }\n",
       "\n",
       "    .dataframe tbody tr th {\n",
       "        vertical-align: top;\n",
       "    }\n",
       "</style>\n",
       "<table border=\"1\" class=\"dataframe\">\n",
       "  <thead>\n",
       "    <tr style=\"text-align: right;\">\n",
       "      <th></th>\n",
       "      <th>C</th>\n",
       "      <th>V</th>\n",
       "      <th>B</th>\n",
       "      <th>N</th>\n",
       "      <th>M</th>\n",
       "    </tr>\n",
       "  </thead>\n",
       "  <tbody>\n",
       "    <tr>\n",
       "      <th>2017-08-23</th>\n",
       "      <td>False</td>\n",
       "      <td>False</td>\n",
       "      <td>False</td>\n",
       "      <td>False</td>\n",
       "      <td>False</td>\n",
       "    </tr>\n",
       "    <tr>\n",
       "      <th>2017-08-24</th>\n",
       "      <td>False</td>\n",
       "      <td>False</td>\n",
       "      <td>False</td>\n",
       "      <td>False</td>\n",
       "      <td>False</td>\n",
       "    </tr>\n",
       "    <tr>\n",
       "      <th>2017-08-25</th>\n",
       "      <td>False</td>\n",
       "      <td>False</td>\n",
       "      <td>False</td>\n",
       "      <td>False</td>\n",
       "      <td>False</td>\n",
       "    </tr>\n",
       "    <tr>\n",
       "      <th>2017-08-26</th>\n",
       "      <td>False</td>\n",
       "      <td>False</td>\n",
       "      <td>False</td>\n",
       "      <td>False</td>\n",
       "      <td>False</td>\n",
       "    </tr>\n",
       "    <tr>\n",
       "      <th>2017-08-27</th>\n",
       "      <td>False</td>\n",
       "      <td>False</td>\n",
       "      <td>False</td>\n",
       "      <td>False</td>\n",
       "      <td>False</td>\n",
       "    </tr>\n",
       "    <tr>\n",
       "      <th>2017-08-28</th>\n",
       "      <td>False</td>\n",
       "      <td>False</td>\n",
       "      <td>False</td>\n",
       "      <td>False</td>\n",
       "      <td>False</td>\n",
       "    </tr>\n",
       "    <tr>\n",
       "      <th>2017-08-29</th>\n",
       "      <td>False</td>\n",
       "      <td>False</td>\n",
       "      <td>False</td>\n",
       "      <td>False</td>\n",
       "      <td>False</td>\n",
       "    </tr>\n",
       "    <tr>\n",
       "      <th>2017-08-30</th>\n",
       "      <td>False</td>\n",
       "      <td>False</td>\n",
       "      <td>False</td>\n",
       "      <td>False</td>\n",
       "      <td>False</td>\n",
       "    </tr>\n",
       "    <tr>\n",
       "      <th>2017-08-31</th>\n",
       "      <td>False</td>\n",
       "      <td>False</td>\n",
       "      <td>False</td>\n",
       "      <td>False</td>\n",
       "      <td>False</td>\n",
       "    </tr>\n",
       "  </tbody>\n",
       "</table>\n",
       "</div>"
      ],
      "text/plain": [
       "                C      V      B      N      M\n",
       "2017-08-23  False  False  False  False  False\n",
       "2017-08-24  False  False  False  False  False\n",
       "2017-08-25  False  False  False  False  False\n",
       "2017-08-26  False  False  False  False  False\n",
       "2017-08-27  False  False  False  False  False\n",
       "2017-08-28  False  False  False  False  False\n",
       "2017-08-29  False  False  False  False  False\n",
       "2017-08-30  False  False  False  False  False\n",
       "2017-08-31  False  False  False  False  False"
      ]
     },
     "execution_count": 26,
     "metadata": {},
     "output_type": "execute_result"
    }
   ],
   "source": [
    "pd.isnull(df)"
   ]
  },
  {
   "cell_type": "code",
   "execution_count": 27,
   "metadata": {},
   "outputs": [],
   "source": [
    "dg1=df.copy()"
   ]
  },
  {
   "cell_type": "code",
   "execution_count": 29,
   "metadata": {},
   "outputs": [
    {
     "data": {
      "text/plain": [
       "C   -0.558277\n",
       "V    0.163396\n",
       "B    0.747887\n",
       "N   -0.075068\n",
       "M   -0.127806\n",
       "dtype: float64"
      ]
     },
     "execution_count": 29,
     "metadata": {},
     "output_type": "execute_result"
    }
   ],
   "source": [
    "dg1.mean()"
   ]
  },
  {
   "cell_type": "code",
   "execution_count": 30,
   "metadata": {},
   "outputs": [
    {
     "data": {
      "text/html": [
       "<div>\n",
       "<style>\n",
       "    .dataframe thead tr:only-child th {\n",
       "        text-align: right;\n",
       "    }\n",
       "\n",
       "    .dataframe thead th {\n",
       "        text-align: left;\n",
       "    }\n",
       "\n",
       "    .dataframe tbody tr th {\n",
       "        vertical-align: top;\n",
       "    }\n",
       "</style>\n",
       "<table border=\"1\" class=\"dataframe\">\n",
       "  <thead>\n",
       "    <tr style=\"text-align: right;\">\n",
       "      <th></th>\n",
       "      <th>C</th>\n",
       "      <th>V</th>\n",
       "      <th>B</th>\n",
       "      <th>N</th>\n",
       "      <th>M</th>\n",
       "    </tr>\n",
       "  </thead>\n",
       "  <tbody>\n",
       "    <tr>\n",
       "      <th>2017-08-23</th>\n",
       "      <td>-1.149824</td>\n",
       "      <td>-1.038819</td>\n",
       "      <td>3.141500</td>\n",
       "      <td>1.056058</td>\n",
       "      <td>1.265738</td>\n",
       "    </tr>\n",
       "    <tr>\n",
       "      <th>2017-08-24</th>\n",
       "      <td>1.538752</td>\n",
       "      <td>-0.052299</td>\n",
       "      <td>0.753609</td>\n",
       "      <td>-0.485656</td>\n",
       "      <td>-0.168861</td>\n",
       "    </tr>\n",
       "    <tr>\n",
       "      <th>2017-08-25</th>\n",
       "      <td>-0.559144</td>\n",
       "      <td>-1.208882</td>\n",
       "      <td>-0.529810</td>\n",
       "      <td>0.039744</td>\n",
       "      <td>-0.514193</td>\n",
       "    </tr>\n",
       "    <tr>\n",
       "      <th>2017-08-26</th>\n",
       "      <td>-0.688243</td>\n",
       "      <td>0.126149</td>\n",
       "      <td>0.666027</td>\n",
       "      <td>0.941132</td>\n",
       "      <td>-1.267556</td>\n",
       "    </tr>\n",
       "    <tr>\n",
       "      <th>2017-08-27</th>\n",
       "      <td>-1.114148</td>\n",
       "      <td>-0.164693</td>\n",
       "      <td>-0.261773</td>\n",
       "      <td>-0.493350</td>\n",
       "      <td>1.061026</td>\n",
       "    </tr>\n",
       "    <tr>\n",
       "      <th>2017-08-28</th>\n",
       "      <td>-0.685278</td>\n",
       "      <td>1.120901</td>\n",
       "      <td>1.183146</td>\n",
       "      <td>-1.313207</td>\n",
       "      <td>0.420683</td>\n",
       "    </tr>\n",
       "    <tr>\n",
       "      <th>2017-08-29</th>\n",
       "      <td>-1.124078</td>\n",
       "      <td>0.949116</td>\n",
       "      <td>-0.427601</td>\n",
       "      <td>1.326805</td>\n",
       "      <td>-0.340251</td>\n",
       "    </tr>\n",
       "    <tr>\n",
       "      <th>2017-08-30</th>\n",
       "      <td>-0.845967</td>\n",
       "      <td>1.921890</td>\n",
       "      <td>-0.382391</td>\n",
       "      <td>-1.590572</td>\n",
       "      <td>0.311105</td>\n",
       "    </tr>\n",
       "    <tr>\n",
       "      <th>2017-08-31</th>\n",
       "      <td>-0.396559</td>\n",
       "      <td>-0.182796</td>\n",
       "      <td>2.588274</td>\n",
       "      <td>-0.156569</td>\n",
       "      <td>-1.917939</td>\n",
       "    </tr>\n",
       "  </tbody>\n",
       "</table>\n",
       "</div>"
      ],
      "text/plain": [
       "                   C         V         B         N         M\n",
       "2017-08-23 -1.149824 -1.038819  3.141500  1.056058  1.265738\n",
       "2017-08-24  1.538752 -0.052299  0.753609 -0.485656 -0.168861\n",
       "2017-08-25 -0.559144 -1.208882 -0.529810  0.039744 -0.514193\n",
       "2017-08-26 -0.688243  0.126149  0.666027  0.941132 -1.267556\n",
       "2017-08-27 -1.114148 -0.164693 -0.261773 -0.493350  1.061026\n",
       "2017-08-28 -0.685278  1.120901  1.183146 -1.313207  0.420683\n",
       "2017-08-29 -1.124078  0.949116 -0.427601  1.326805 -0.340251\n",
       "2017-08-30 -0.845967  1.921890 -0.382391 -1.590572  0.311105\n",
       "2017-08-31 -0.396559 -0.182796  2.588274 -0.156569 -1.917939"
      ]
     },
     "execution_count": 30,
     "metadata": {},
     "output_type": "execute_result"
    }
   ],
   "source": [
    "dg1"
   ]
  },
  {
   "cell_type": "code",
   "execution_count": null,
   "metadata": {
    "collapsed": true
   },
   "outputs": [],
   "source": []
  }
 ],
 "metadata": {
  "kernelspec": {
   "display_name": "Python 3",
   "language": "python",
   "name": "python3"
  },
  "language_info": {
   "codemirror_mode": {
    "name": "ipython",
    "version": 3
   },
   "file_extension": ".py",
   "mimetype": "text/x-python",
   "name": "python",
   "nbconvert_exporter": "python",
   "pygments_lexer": "ipython3",
   "version": "3.6.2"
  }
 },
 "nbformat": 4,
 "nbformat_minor": 2
}
